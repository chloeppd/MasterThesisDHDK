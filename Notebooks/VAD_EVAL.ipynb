{
  "nbformat": 4,
  "nbformat_minor": 0,
  "metadata": {
    "colab": {
      "provenance": []
    },
    "kernelspec": {
      "name": "python3",
      "display_name": "Python 3"
    },
    "language_info": {
      "name": "python"
    }
  },
  "cells": [
    {
      "cell_type": "code",
      "source": [
        "import pandas as pd\n",
        "import librosa\n",
        "import sklearn.metrics as metrics\n"
      ],
      "metadata": {
        "id": "fZaUHKM027PC"
      },
      "execution_count": 1,
      "outputs": []
    },
    {
      "cell_type": "code",
      "source": [
        "from google.colab import drive\n",
        "drive.mount('/content/drive')"
      ],
      "metadata": {
        "colab": {
          "base_uri": "https://localhost:8080/"
        },
        "id": "VcuitMvT2uO6",
        "outputId": "ce4076a9-0904-4f9a-dc84-e774743596d9"
      },
      "execution_count": 2,
      "outputs": [
        {
          "output_type": "stream",
          "name": "stdout",
          "text": [
            "Mounted at /content/drive\n"
          ]
        }
      ]
    },
    {
      "cell_type": "markdown",
      "source": [
        "\n",
        "# Obtain label and prediction sets\n",
        "\n",
        "1. Labels: parse the XML file of selected audios from the clips database to get information on start and end position (in samples) of speech segments; obtain a dictionary with the timestamps\n",
        "\n",
        "2. Predictions: Apply the SS-VAD on these files and obtain a dictionary with the predicted timestamps from the output dataframe containing speech and silence segments.\n",
        "\n"
      ],
      "metadata": {
        "id": "zFQT1Y3NjYrN"
      }
    },
    {
      "cell_type": "code",
      "source": [
        "#xml parsing\n",
        "\n",
        "\n",
        "from bs4 import BeautifulSoup\n",
        "\n",
        "xml_file = '/content/drive/MyDrive/Thesis/Data/radio_firenze/radio_lungo/labels/RTV_FIRENZE_etichettato_all.xml'\n",
        "\n",
        "\n",
        "with open(xml_file, 'r', encoding='ISO-8859-1') as file:\n",
        "    soup = BeautifulSoup(file, 'xml')\n",
        "\n",
        "#\n",
        "annotated_sil = {} #timestamps will be stored here for each file\n",
        "\n",
        "for turno in soup.find_all('TURNO'):\n",
        "  dialogo = turno.parent\n",
        "\n",
        "  x=0 #for each segment\n",
        "\n",
        "  timestamp = {}\n",
        "  turno_id = turno['id']\n",
        "  for wrd_tag in turno.find_all('WRD'):\n",
        "    wrd_id = wrd_tag['id']\n",
        "    start_time = wrd_tag['start']\n",
        "    end_time = wrd_tag['end']\n",
        "    pos = wrd_tag['POS']\n",
        "    lemma = wrd_tag['lemma']\n",
        "    turno_key = dialogo['id']+'#'+turno_id\n",
        "\n",
        "\n",
        "    if lemma == \"__\" or lemma == \"\" and not wrd_tag.find('eeh'):\n",
        "\n",
        "      timestamp[f'segment_{x}_silence'] = (start_time, end_time)\n",
        "\n",
        "      annotated_sil[turno_key] = timestamp\n",
        "      x+=1\n",
        "\n",
        "\n",
        "    else:\n",
        "\n",
        "      timestamp[f'segment_{x}_speech'] = (start_time, end_time)\n",
        "      annotated_sil[turno_key] = timestamp\n",
        "\n",
        "      x+=1\n",
        "\n",
        "\n",
        "annotated_sil.keys()\n"
      ],
      "metadata": {
        "colab": {
          "base_uri": "https://localhost:8080/"
        },
        "id": "aw5QwL2ZivM1",
        "outputId": "08e04dfb-35fc-4e69-8e24-604e8d84a40e"
      },
      "execution_count": 3,
      "outputs": [
        {
          "output_type": "execute_result",
          "data": {
            "text/plain": [
              "dict_keys(['RDdc_01F#1', 'RDdc_01F#2', 'RDis_01F#1', 'RDis_01F#2', 'RDis_01F#3', 'RDis_01F#4', 'RDit_02F#2', 'RDit_03F#1', 'RDit_03F#2', 'RDit_03F#3', 'RDit_05F#1', 'RDit_05F#2', 'RDit_05F#3', 'RDit_06F#1', 'RDit_06F#2', 'RDit_06F#3', 'RDit_06F#9', 'RDit_06F#10', 'RDit_06F#12', 'RDit_06F#13', 'RDit_06F#22'])"
            ]
          },
          "metadata": {},
          "execution_count": 3
        }
      ]
    },
    {
      "cell_type": "code",
      "source": [
        "fold= '/content/drive/MyDrive/Thesis/Data/radio_firenze/LABELED_RDTV/'\n",
        "\n",
        "segments_vad = pd.read_csv(fold+'/rdtv_segments_vad.csv')\n",
        "segments_vad = segments_vad[segments_vad['file'].str.contains('22050')] # the clips corpus has files with different sampling rates; we keep the ones with 22.5 kHz\n"
      ],
      "metadata": {
        "id": "z9lSJWjwje9H"
      },
      "execution_count": 4,
      "outputs": []
    },
    {
      "cell_type": "code",
      "source": [
        "import pandas as pd\n",
        "\n",
        "vad_silence_timestamps = {}\n",
        "\n",
        "df=segments_vad\n",
        "\n",
        "grouped_df = df.groupby('file') #each segment; each key\n",
        "\n",
        "\n",
        "for file_name, group in grouped_df:\n",
        "    id=0\n",
        "\n",
        "    segment_dict = {}\n",
        "    for index, row in group.iterrows():\n",
        "      if row['label'] == 'h#': #get silence segment timestamps\n",
        "\n",
        "        segment_key = f'segment_{id}_silence'\n",
        "        start = int(row['start_time'])\n",
        "        end = int(row['end_time'])\n",
        "        segment_dict[segment_key] = (start,end)\n",
        "        id+=1\n",
        "\n",
        "\n",
        "      if row['label'] == 'S': #get speech segment timestamps\n",
        "        segment_key = f'segment_{id}_speech'\n",
        "        start = int(row['start_time'])\n",
        "        end = int(row['end_time'])\n",
        "\n",
        "        segment_dict[segment_key] = (start,end)\n",
        "\n",
        "        id+=1\n",
        "\n",
        "\n",
        "    file_name = file_name.replace('_22050Hz','')\n",
        "    file_name= file_name.replace('.wav','')\n",
        "    file_name = file_name.replace('_p0','')\n",
        "    file_name = file_name.replace('_p1','')  #remove this info as we want the dictionary keys to match\n",
        "\n",
        "\n",
        "    vad_silence_timestamps[file_name] = segment_dict\n",
        "\n",
        "vad_silence_timestamps.keys()\n",
        "\n",
        "vad_silence_timestamps = dict(list(vad_silence_timestamps.items())[:10]) #keep the first 10 files\n",
        "vad_silence_timestamps.keys()"
      ],
      "metadata": {
        "colab": {
          "base_uri": "https://localhost:8080/"
        },
        "id": "0LiywmVmi39E",
        "outputId": "26aed3ca-729f-492c-e565-7eb407a6838f"
      },
      "execution_count": 5,
      "outputs": [
        {
          "output_type": "execute_result",
          "data": {
            "text/plain": [
              "dict_keys(['RDdc_01F#1', 'RDdc_01F#2', 'RDis_01F#1', 'RDis_01F#2', 'RDis_01F#3', 'RDis_01F#4', 'RDit_02F#2', 'RDit_05F#1', 'RDit_05F#2', 'RDit_05F#3'])"
            ]
          },
          "metadata": {},
          "execution_count": 5
        }
      ]
    },
    {
      "cell_type": "markdown",
      "source": [
        "##Keep the same dictionary keys for both dictionaries (vad prediction and annotated data)."
      ],
      "metadata": {
        "id": "f02WKJnQ3GtD"
      }
    },
    {
      "cell_type": "code",
      "source": [
        "common_keys = set(vad_silence_timestamps.keys()).intersection(annotated_sil.keys())\n",
        "\n",
        "annotated_sil = {key: annotated_sil[key] for key in common_keys}\n",
        "print(f\"REF: {annotated_sil['RDdc_01F#2']}, \\nVAD PRED: {vad_silence_timestamps['RDdc_01F#2']}\")"
      ],
      "metadata": {
        "colab": {
          "base_uri": "https://localhost:8080/"
        },
        "id": "QvvpZBLu7X_-",
        "outputId": "16d435a0-d060-4695-eb29-cee7f0681fd0"
      },
      "execution_count": 6,
      "outputs": [
        {
          "output_type": "stream",
          "name": "stdout",
          "text": [
            "REF: {'segment_0_silence': ('0', '8593'), 'segment_1_speech': ('8593', '19353'), 'segment_2_speech': ('19353', '23437'), 'segment_3_speech': ('23437', '38307'), 'segment_4_speech': ('38307', '51049'), 'segment_5_speech': ('51049', '56296'), 'segment_6_speech': ('56296', '82306'), 'segment_7_silence': ('82306', '86200'), 'segment_8_speech': ('86200', '98924'), 'segment_9_speech': ('98924', '119283'), 'segment_10_silence': ('119283', '129156'), 'segment_11_speech': ('129156', '136268'), 'segment_12_speech': ('136268', '145275'), 'segment_13_speech': ('145275', '171884'), 'segment_14_speech': ('145275', '171884'), 'segment_15_speech': ('145275', '171884'), 'segment_16_speech': ('171884', '183935')}, \n",
            "VAD PRED: {'segment_0_silence': (0, 2090), 'segment_1_speech': (2090, 2332), 'segment_2_silence': (2332, 4070), 'segment_3_speech': (4070, 6314), 'segment_4_silence': (6314, 10362), 'segment_5_speech': (10362, 16302), 'segment_6_silence': (16302, 17622), 'segment_7_speech': (17622, 20064), 'segment_8_silence': (20064, 21340), 'segment_9_speech': (21340, 33264), 'segment_10_silence': (33264, 34870), 'segment_11_speech': (34870, 38544), 'segment_12_silence': (38544, 40326), 'segment_13_speech': (40326, 48884), 'segment_14_silence': (48884, 49060), 'segment_15_speech': (49060, 49962), 'segment_16_silence': (49962, 51634), 'segment_17_speech': (51634, 63558), 'segment_18_silence': (63558, 65758), 'segment_19_speech': (65758, 82698), 'segment_20_silence': (82698, 82940), 'segment_21_speech': (82940, 83798), 'segment_22_silence': (83798, 86108), 'segment_23_speech': (86108, 89320), 'segment_24_silence': (89320, 89980), 'segment_25_speech': (89980, 99792), 'segment_26_silence': (99792, 100518), 'segment_27_speech': (100518, 105424), 'segment_28_silence': (105424, 106348), 'segment_29_speech': (106348, 106722), 'segment_30_silence': (106722, 107338), 'segment_31_speech': (107338, 119680), 'segment_32_silence': (119680, 121814), 'segment_33_speech': (121814, 125620), 'segment_34_silence': (125620, 129426), 'segment_35_speech': (129426, 136246), 'segment_36_silence': (136246, 137566), 'segment_37_speech': (137566, 139304), 'segment_38_silence': (139304, 139920), 'segment_39_speech': (139920, 150898), 'segment_40_silence': (150898, 152130), 'segment_41_speech': (152130, 172788), 'segment_42_silence': (172788, 173162), 'segment_43_speech': (173162, 184536), 'segment_44_silence': (184536, 184756)}\n"
          ]
        }
      ]
    },
    {
      "cell_type": "markdown",
      "source": [
        "The VAD catches many small silences which are not annotated in the clips corpus; to perform a\n",
        "binary classification we create two sets from the dictionaries, based on their timestamps positions in sample numbers."
      ],
      "metadata": {
        "id": "rQIAnxuw4Lqo"
      }
    },
    {
      "cell_type": "code",
      "source": [
        "import numpy as np\n",
        "\n",
        "sig_labels={}\n",
        "\n",
        "for key, segments in annotated_sil.items():\n",
        "    # get the last tuple value (sample position of last segment) for each key,\n",
        "    # since the annotations from clips only mark speech segments OR long silences\n",
        "\n",
        "    last_tuple_value = segments[list(segments.keys())[-1]][1]\n",
        "\n",
        "    sig_labels[key] =int(last_tuple_value)\n",
        "\n",
        "sig_labels\n",
        "\n",
        "# convert timestamp segments to binary arrays where 1 marks speech and 0 silence\n",
        "def segments_to_binary(segments, signal_length, label):\n",
        "    binary_array = np.zeros(signal_length)\n",
        "    for id, segment in segments.items():\n",
        "        start_sample, end_sample = int(segment[0]), int(segment[1])\n",
        "\n",
        "        if label in id:\n",
        "          binary_array[start_sample:end_sample] = 1\n",
        "\n",
        "\n",
        "    return binary_array\n",
        "\n",
        "\n",
        "vad_binary_sil = {}\n",
        "ref_binary_sil = {}\n",
        "\n",
        "ref_binary_spe = {}\n",
        "vad_binary_spe = {}\n",
        "\n",
        "#1 Create ref and pref dictionaries on silence\n",
        "\n",
        "# populate vad_binary based on vad_silence_timestamps\n",
        "for key, segments in vad_silence_timestamps.items():\n",
        "    signal_length = sig_labels[key]\n",
        "\n",
        "    vad_binary_sil[key] = segments_to_binary(segments, signal_length, \"silence\")\n",
        "\n",
        "# populate ref_binary based on annotated_sil\n",
        "for key, segments in annotated_sil.items():\n",
        "    signal_length = sig_labels[key]\n",
        "    ref_binary_sil[key] = segments_to_binary(segments, signal_length, \"silence\")\n",
        "\n",
        "#2 Create ref and pref dictionaries on speech\n",
        "\n",
        "\n",
        "# populate vad_binary based on vad_silence_timestamps\n",
        "for key, segments in vad_silence_timestamps.items():\n",
        "    signal_length = sig_labels[key]\n",
        "    vad_binary_spe[key] = segments_to_binary(segments, signal_length, \"speech\")\n",
        "\n",
        "# populate ref_binary based on annotated_sil\n",
        "for key, segments in annotated_sil.items():\n",
        "    signal_length = sig_labels[key]\n",
        "    ref_binary_spe[key] = segments_to_binary(segments, signal_length, \"speech\")\n",
        "\n"
      ],
      "metadata": {
        "id": "Nvx-7wdLi7vq"
      },
      "execution_count": 7,
      "outputs": []
    },
    {
      "cell_type": "code",
      "source": [
        "x, y= len(ref_binary_spe['RDdc_01F#1']), len(vad_binary_spe['RDdc_01F#1'])\n",
        "x,y"
      ],
      "metadata": {
        "colab": {
          "base_uri": "https://localhost:8080/"
        },
        "id": "xwgTf0zl4_Lj",
        "outputId": "b744a738-b957-465b-87c5-b662a211413b"
      },
      "execution_count": 8,
      "outputs": [
        {
          "output_type": "execute_result",
          "data": {
            "text/plain": [
              "(85683, 85683)"
            ]
          },
          "metadata": {},
          "execution_count": 8
        }
      ]
    },
    {
      "cell_type": "markdown",
      "source": [
        "Several metrics are used to characterize VAD performance.\n",
        "\n",
        "We calculate: precision and recall, F1, and two other typically used metrics, error rate and detection cost function\n",
        "\n",
        "ER = 100 ∗ # false rejections + false insertions / #total  ;\n",
        "\n",
        "False alarm rate Pfa is the percentage of non-speech instances being misclassified as speech and miss rate\n",
        "Pmiss is the percentage of speech instances being misclassified as non-speech.\n",
        "\n",
        "Detection cost function (DCF)\n",
        "is defined as\n",
        "DCF = (1 − γ) ∗ Pmiss + γ ∗ Pfa (12)\n",
        "where the weight γ is equal to 0.25, which penalizes missed speech frames more heavily\n",
        "\n",
        "<!-- from https://arxiv.org/pdf/1906.03588.pdf -->"
      ],
      "metadata": {
        "id": "gXAe33188NQ1"
      }
    },
    {
      "cell_type": "code",
      "source": [
        "# Exploratory evaluation to see how it performs without a tolerance"
      ],
      "metadata": {
        "id": "Fa-CzHfnD3l7"
      },
      "execution_count": 9,
      "outputs": []
    },
    {
      "cell_type": "code",
      "source": [
        "def scores(ref, prediction): #without tolerance\n",
        "    CM = metrics.confusion_matrix(ref, prediction)\n",
        "\n",
        "    TN = CM[0][0]\n",
        "    FN = CM[1][0]\n",
        "    TP = CM[1][1]\n",
        "    FP = CM[0][1]\n",
        "\n",
        "    TOTAL_PREDS = TP+FP+TN+FN\n",
        "\n",
        "    ER = 100 * (FP + FN) / TOTAL_PREDS\n",
        "    accuracy = (TP + TN) / TOTAL_PREDS\n",
        "    precision = TP / (TP + FP)\n",
        "    recall = TP / (TP + FN)\n",
        "    falses = FP+FN\n",
        "\n",
        "    PMISS= FN/TOTAL_PREDS\n",
        "    PFA = FP/TOTAL_PREDS\n",
        "    g= 0.25\n",
        "    DCF = ((1-g) * PMISS) + (g * PFA )\n",
        "\n",
        "\n",
        "    g= 0.25\n",
        "    DCF = ((1-g) * PMISS) + (g * PFA )\n",
        "    F1 = 2* ((precision * recall) / (precision+recall))\n",
        "\n",
        "    roc_auc= metrics.roc_auc_score(ref, prediction, average = \"samples\")\n",
        "\n",
        "\n",
        "    return  f\"F: {F1}, ER: {ER}, DCF: {DCF}, ROC: {roc_auc}\"\n",
        "\n",
        "\n",
        "\n",
        "scores(ref_binary_spe['RDdc_01F#1'], vad_binary_spe['RDdc_01F#1']) , scores(ref_binary_sil['RDdc_01F#1'], vad_binary_sil['RDdc_01F#1'])"
      ],
      "metadata": {
        "id": "cGVfQ6Z3VzXA",
        "colab": {
          "base_uri": "https://localhost:8080/"
        },
        "outputId": "26def6ee-cf41-49b7-e69f-adfd93db9007"
      },
      "execution_count": 39,
      "outputs": [
        {
          "output_type": "execute_result",
          "data": {
            "text/plain": [
              "('F: 0.8927850356294538, ER: 16.857486315838614, DCF: 0.08584550027426677, ROC: 0.7520348441674637',\n",
              " 'F: 0.605850570321454, ER: 16.857486315838614, DCF: 0.08272936288411938, ROC: 0.7520348441674638')"
            ]
          },
          "metadata": {},
          "execution_count": 39
        }
      ]
    },
    {
      "cell_type": "markdown",
      "source": [
        "Usually VADS are evaluated with a tolerance of 200ms. We perform this by checking if the prediction label matches either within the range of 200 (ms) x 22.05 (sample rate) = 4410 samples."
      ],
      "metadata": {
        "id": "KxsucgtM614d"
      }
    },
    {
      "cell_type": "code",
      "source": [
        "def metrics_with_tolerance(ref_data, pred_data, tolerance):\n",
        "    TP = 0\n",
        "    FP = 0\n",
        "    FN = 0\n",
        "    TN = 0\n",
        "    for i in range(len(ref_data)):\n",
        "        ref_value = ref_data[i]\n",
        "        pred_value = pred_data[i]\n",
        "\n",
        "\n",
        "        # check for a match within the specified tolerance\n",
        "        match_range = range(i - tolerance, i + tolerance + 1)\n",
        "        match = any(0 <= idx < len(ref_data) and ref_data[idx] == pred_value for idx in match_range)\n",
        "        if match:\n",
        "\n",
        "            if pred_value == 1 and ref_value == 1:\n",
        "                TP += 1\n",
        "\n",
        "            elif pred_value == 0 and ref_value == 0:\n",
        "                TN += 1\n",
        "        elif not match:\n",
        "\n",
        "            if pred_value == 1 and ref_value == 0:\n",
        "                FP += 1\n",
        "            elif pred_value == 0 and ref_value == 1:\n",
        "                FN += 1\n",
        "\n",
        "\n",
        "    TOTAL_PREDS = TP + FP + FN + TN\n",
        "\n",
        "\n",
        "    accuracy = (TP+TN)/TOTAL_PREDS\n",
        "    precision = TP / (TP + FP)\n",
        "    recall = TP / (TP + FN)\n",
        "\n",
        "    falses = FP+FN\n",
        "    ER = 1-accuracy\n",
        "\n",
        "    PMISS= FN/TOTAL_PREDS\n",
        "    PFA = FP/TOTAL_PREDS\n",
        "    g= 0.25\n",
        "    DCF = ((1-g) * PMISS) + (g * PFA )\n",
        "\n",
        "    F1 = 2* ((precision * recall) / (precision+recall))\n",
        "\n",
        "    roc_auc= metrics.roc_auc_score(ref_data, pred_data, average = \"samples\")\n",
        "\n",
        "\n",
        "    # print(f\"ACCURACY: {accuracy}, PRECISION: {precision}, RECALL: {recall}, F1: {F1}, ER: {ER} DCF: {DCF}, TOTAL PREDICTIONS: {TOTAL_PREDS}, ROC_AUC: {roc_auc}\")\n",
        "    return accuracy, precision, recall, F1, ER, DCF, roc_auc\n",
        "\n",
        "tolerance = 4410 #200ms x 22.05 sr\n",
        "\n"
      ],
      "metadata": {
        "id": "OIFM2WMCMOAc"
      },
      "execution_count": 31,
      "outputs": []
    },
    {
      "cell_type": "code",
      "source": [
        "tolerance = 4410\n",
        "# iterate x2 for two dictionaries. we care about false insertions in this case!\n",
        "\n",
        "all_accuracies = []\n",
        "all_precisions = []\n",
        "all_recalls = []\n",
        "all_F1=[]\n",
        "all_ERs = []\n",
        "all_DCFs = []\n",
        "all_roc=[]\n",
        "\n",
        "for key in ref_binary_spe.keys():\n",
        "    ref_data = ref_binary_spe[key]\n",
        "    pred_data = vad_binary_spe[key]\n",
        "    print(f\"working on key : {key}\")\n",
        "\n",
        "    accuracy, precision, recall, F1, ER, DCF, roc_auc = metrics_with_tolerance(ref_data, pred_data, tolerance)\n",
        "\n",
        "    print(f\"accuracy: {accuracy}, precision: {precision}, recall: {recall}, ER: {ER}\")\n",
        "    all_accuracies.append(accuracy)\n",
        "    all_precisions.append(precision)\n",
        "    all_recalls.append(recall)\n",
        "    all_ERs.append(ER)\n",
        "    all_DCFs.append(DCF)\n",
        "    all_roc.append(roc_auc)\n",
        "    all_F1.append(F1)\n",
        "\n"
      ],
      "metadata": {
        "colab": {
          "base_uri": "https://localhost:8080/"
        },
        "id": "yvQSZf79wzbu",
        "outputId": "668e463a-c83a-4bb8-ce69-d323b096a0a6"
      },
      "execution_count": 32,
      "outputs": [
        {
          "output_type": "stream",
          "name": "stdout",
          "text": [
            "working on key : RDdc_01F#2\n",
            "accuracy: 0.9012215585322971, precision: 0.990252277699316, recall: 0.9002996047231804, ER: 0.09877844146770287\n",
            "working on key : RDis_01F#2\n",
            "accuracy: 0.6457765667574932, precision: 1.0, recall: 0.6334155798378569, ER: 0.3542234332425068\n",
            "working on key : RDit_02F#2\n",
            "accuracy: 0.8469578994145719, precision: 1.0, recall: 0.8359135478525066, ER: 0.1530421005854281\n",
            "working on key : RDit_05F#3\n",
            "accuracy: 0.9146458147744895, precision: 0.9589933111002829, recall: 0.9436933711118722, ER: 0.08535418522551053\n",
            "working on key : RDit_05F#1\n",
            "accuracy: 0.9548557202547299, precision: 0.9921872415868963, recall: 0.9547642085964555, ER: 0.04514427974527013\n",
            "working on key : RDis_01F#1\n",
            "accuracy: 0.8227173115562226, precision: 1.0, recall: 0.7918976881898983, ER: 0.17728268844377737\n",
            "working on key : RDis_01F#4\n",
            "accuracy: 0.8015660859026482, precision: 0.9825217176124301, recall: 0.7762571643188624, ER: 0.19843391409735178\n",
            "working on key : RDit_05F#2\n",
            "accuracy: 0.7373408282666055, precision: 0.6984422415537124, recall: 0.8120619090182057, ER: 0.2626591717333945\n",
            "working on key : RDdc_01F#1\n",
            "accuracy: 0.9204124084290495, precision: 1.0, recall: 0.9070861866119642, ER: 0.07958759157095052\n",
            "working on key : RDis_01F#3\n",
            "accuracy: 0.7587677423461269, precision: 0.9937432455491724, recall: 0.6510284692204501, ER: 0.24123225765387313\n"
          ]
        }
      ]
    },
    {
      "cell_type": "code",
      "source": [
        "dict_eval_spe = {}\n",
        "\n",
        "accuracy_array = np.array(all_accuracies)\n",
        "precision_array = np.array(all_precisions)\n",
        "recall_array = np.array(all_recalls)\n",
        "f1_array = np.array(all_F1)\n",
        "ER_array = np.array(all_ERs)\n",
        "DCF_array = np.array(all_DCFs)\n",
        "roc_array = np.array(all_roc)\n",
        "\n",
        "dict_eval_spe = {\n",
        "    'accuracy': np.mean(accuracy_array),\n",
        "    'precision': np.mean(precision_array),\n",
        "    'recall': np.mean(recall_array),\n",
        "    'f1': np.mean(f1_array),\n",
        "    'ER': np.mean(ER_array),\n",
        "    'DCF': np.mean(DCF_array),\n",
        "    'roc': np.mean(roc_array)\n",
        "\n",
        "}\n",
        "dict_eval_spe #metrics on speech identification"
      ],
      "metadata": {
        "colab": {
          "base_uri": "https://localhost:8080/"
        },
        "id": "heyA0z3lt18j",
        "outputId": "11492c09-0db3-4feb-eeeb-f05cbb4a66ee"
      },
      "execution_count": 33,
      "outputs": [
        {
          "output_type": "execute_result",
          "data": {
            "text/plain": [
              "{'accuracy': 0.8304261936234234,\n",
              " 'precision': 0.9616140035101811,\n",
              " 'recall': 0.8206417729481252,\n",
              " 'f1': 0.8793828359051898,\n",
              " 'ER': 22.52989347002147,\n",
              " 'DCF': 0.11540710559416054,\n",
              " 'roc': 0.7678070630472189}"
            ]
          },
          "metadata": {},
          "execution_count": 33
        }
      ]
    },
    {
      "cell_type": "code",
      "source": [
        "all_accuracies = []\n",
        "all_precisions = []\n",
        "all_recalls = []\n",
        "all_F1=[]\n",
        "all_ERs = []\n",
        "all_DCFs = []\n",
        "all_roc=[]\n",
        "\n",
        "\n",
        "for key in ref_binary_sil.keys():\n",
        "    ref_data = ref_binary_sil[key]\n",
        "    pred_data = vad_binary_sil[key]\n",
        "    print(f\"working on key : {key}\")\n",
        "\n",
        "    accuracy, precision, recall, F1, ER, DCF, roc_auc = metrics_with_tolerance(ref_data, pred_data, tolerance)\n",
        "\n",
        "    print(f\"accuracy: {accuracy}, precision: {precision}, recall: {recall}, ER: {ER}\")\n",
        "    all_accuracies.append(accuracy)\n",
        "    all_precisions.append(precision)\n",
        "    all_recalls.append(recall)\n",
        "    all_ERs.append(ER)\n",
        "    all_DCFs.append(DCF)\n",
        "    all_roc.append(roc_auc)\n",
        "    all_F1.append(F1)\n",
        "\n",
        "dict_eval_sil = {}\n",
        "\n",
        "accuracy_array = np.array(all_accuracies)\n",
        "precision_array = np.array(all_precisions)\n",
        "recall_array = np.array(all_recalls)\n",
        "f1_array = np.array(all_F1)\n",
        "ER_array = np.array(all_ERs)\n",
        "DCF_array = np.array(all_DCFs)\n",
        "roc_array = np.array(all_roc)\n",
        "\n",
        "dict_eval_sil = {\n",
        "    'accuracy': np.mean(accuracy_array),\n",
        "    'precision': np.mean(precision_array),\n",
        "    'recall': np.mean(recall_array),\n",
        "    'f1': np.mean(f1_array),\n",
        "    'ER': np.mean(ER_array),\n",
        "    'DCF': np.mean(DCF_array),\n",
        "    'roc': np.mean(roc_array)\n",
        "\n",
        "}\n",
        "dict_eval_sil"
      ],
      "metadata": {
        "colab": {
          "base_uri": "https://localhost:8080/"
        },
        "id": "U_DX-0AJbT4d",
        "outputId": "add69831-034b-4cfc-adf0-84118e1608ba"
      },
      "execution_count": 34,
      "outputs": [
        {
          "output_type": "stream",
          "name": "stdout",
          "text": [
            "working on key : RDdc_01F#2\n",
            "accuracy: 0.9012215585322971, precision: 0.47495773807550795, recall: 0.9105293257927178, ER: 0.09877844146770287\n",
            "working on key : RDis_01F#2\n",
            "accuracy: 0.6457765667574932, precision: 0.08691834942932397, recall: 1.0, ER: 0.3542234332425068\n",
            "working on key : RDit_02F#2\n",
            "accuracy: 0.8469578994145719, precision: 0.3054597533173555, recall: 1.0, ER: 0.1530421005854281\n",
            "working on key : RDit_05F#3\n",
            "accuracy: 0.9140064930028476, precision: 0.5977579073802215, recall: 0.6746497966561229, ER: 0.08599350699715236\n",
            "working on key : RDit_05F#1\n",
            "accuracy: 0.9548557202547299, precision: 0.780706085668436, recall: 0.9553986177725745, ER: 0.04514427974527013\n",
            "working on key : RDis_01F#1\n",
            "accuracy: 0.8227173115562226, precision: 0.45515371238246827, recall: 1.0, ER: 0.17728268844377737\n",
            "working on key : RDis_01F#4\n",
            "accuracy: 0.8133590049939402, precision: 0.46653398973499527, recall: 0.9299509343355257, ER: 0.1866409950060598\n",
            "working on key : RDit_05F#2\n",
            "accuracy: 0.7373408282666055, precision: 0.7882882882882883, recall: 0.6662038695807954, ER: 0.2626591717333945\n",
            "working on key : RDdc_01F#1\n",
            "accuracy: 0.9204124084290495, precision: 0.6431261224726261, recall: 1.0, ER: 0.07958759157095052\n",
            "working on key : RDis_01F#3\n",
            "accuracy: 0.7425116160651772, precision: 0.5552759046443158, recall: 0.939838443917534, ER: 0.25748838393482276\n"
          ]
        },
        {
          "output_type": "execute_result",
          "data": {
            "text/plain": [
              "{'accuracy': 0.8299159407272935,\n",
              " 'precision': 0.5154177851393539,\n",
              " 'recall': 0.907657098805527,\n",
              " 'f1': 0.6195283836109461,\n",
              " 'FER': 0.16957380637657654,\n",
              " 'DCF': 0.055120415266637725,\n",
              " 'roc': 0.7643263046998953}"
            ]
          },
          "metadata": {},
          "execution_count": 34
        }
      ]
    }
  ]
}